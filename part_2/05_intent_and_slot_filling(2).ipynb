{
 "cells": [
  {
   "cell_type": "markdown",
   "id": "aca7d9e5",
   "metadata": {},
   "source": [
    "## Requirements\n",
    "<!-- - pytorch \n",
    "    - Pytorch install: https://pytorch.org/get-started/locally/ \n",
    "- tqdm\n",
    "- sklearn\n",
    "- Huggingface Transformer: \n",
    "    - pip install transformers  -->\n",
    "- **DATASET**:\n",
    "    - https://github.com/BrownFortress/IntentSlotDatasets\n",
    "    - We will use **ATIS** only\n",
    "    \n",
    "    \n",
    "\n",
    "## Outline\n",
    "\n",
    "#### Introduction\n",
    "- sequence labelling (Slot filling)\n",
    "- text classification (Intent classification)\n",
    "\n",
    "#### Preparing text for NN\n",
    "- word2id\n",
    "- special tokens \n",
    "- Customize Dataset class\n",
    "\n",
    "#### Split data in batches\n",
    "- Usage of Dataloader class\n",
    "- Padding sequences\n",
    "\n",
    "#### Neural Networks in Pytorch\n",
    "- Word embeddings\n",
    "- Implementation of an LSTM\n",
    "- Regularization techniques\n",
    "\n",
    "#### Train and Test a Neural Network\n",
    "- Optimizer\n",
    "- Loss function\n",
    "- Iteration over batches\n",
    "\n",
    "#### Hugging face library\n",
    "- Introduction and Usage\n",
    " \n",
    " \n",
    "## References\n",
    "- RNN: https://d2l.ai/chapter_recurrent-neural-networks/index.html \n",
    "- LSTM: https://d2l.ai/chapter_recurrent-modern/lstm.html\n",
    "- GRU: https://d2l.ai/chapter_recurrent-modern/gru.html\n"
   ]
  },
  {
   "cell_type": "markdown",
   "id": "e0c0b990",
   "metadata": {},
   "source": [
    "[![Open In Colab](https://colab.research.google.com/assets/colab-badge.svg)](https://colab.research.google.com/github/brownfortress/NLU-2024-labs/blob/main/labs/05_intent_and_slot_filling.ipynb)"
   ]
  },
  {
   "cell_type": "markdown",
   "id": "720a0554",
   "metadata": {},
   "source": [
    "# 1 Sequence Labeling,  Shallow Parsing and Text classification tasks\n",
    "\n",
    "## 1.1 Sequence Labeling and Shallow parsing\n",
    "Sequence labelling is to assign a label for each token. The task is formally defined as:\n",
    "- Given a sequence of tokens $w = {w_1, w_2, ..., w_n}$,\n",
    "- defining a sequence of labels as $l = {l_1, l_2, ..., l_n}$\n",
    "- compute the sequence $\\hat{l}$ such as $\\hat{l} = \\underset{l}{\\operatorname{argmax}} P(l|w)$ \n",
    "\n",
    "A particular case of sequence labelling is [Shallow Parsing](https://en.wikipedia.org/wiki/Shallow_parsing). The main difference from Sequence Labeling task is that Shallow Parsing performs __chunking__ -- segmentation of input sequence into constituents. Chunking is required to identify categories (or types) of *multi-word expressions*.\n",
    "\n",
    "In this, we are going to see a particular case of shallow parsing task, which is named as Slot Filling (or Concept tagging). The **segmentation** part is represented with IOB tags and the **labeling** part are the concepts defined in the annotation schema of a corpus. \\\n",
    "\\\n",
    "An example is the following: \n",
    "\n",
    "| Slot Filling |  |                     |                     |  |  |  |  |\n",
    "|------------------|----|--------------------------|--------------------------|---|------|---|--------|\n",
    "| Input sequence:  | on | april                    | first                    | I | want | a | flight |\n",
    "| Output sequence: | O  | B-depart_date.month_name | B-depart_date.day_number | O | O    | O | O      |\n",
    "\n",
    "## 1.2 Text classification\n",
    "The text classification problem is defined  as follows:\n",
    "- Given a sequence of tokens $w = {w_1, w_2, ..., w_n}$,\n",
    "- And a set of labels $L$ where $l \\in L$\n",
    "- estimate the label $\\hat{l}$ such as $\\hat{l} = \\underset{l}{\\operatorname{argmax}} P(l|w)$ \n",
    "\n",
    "In text classification, the label is given to the whole input sequence instead of at each element of the sequence (as in sequence labelling).\n",
    "\n",
    "The text classification task that we are going to see in this laboratory is named as Intent Classification. The Intent is an additional component of the *semantic frame*. \\\n",
    "\\\n",
    "An example is the following:\n",
    "\n",
    "| Intent Classification|  |                     |                     |  |  |  |  |\n",
    "|------------------|----|--------------------------|--------------------------|---|------|---|--------|\n",
    "| Input sequence:  | on | april                    | first                    | I | want | a | flight |\n",
    "| Output label: | flight     |\n",
    "\n",
    "\n",
    "# 2 Dataset\n",
    "The dataset that we are going to use is ATIS (Airline Travel Information Systems). It is composed of transcriptions of humans asking about flight information.  "
   ]
  },
  {
   "cell_type": "markdown",
   "id": "31e3289e",
   "metadata": {},
   "source": [
    "## 2.2 Load the dataset\n",
    "I have prepared a custom data structure for this dataset. The structure is the following:\n",
    "```json\n",
    "[\n",
    "    {\n",
    "    \"utterance\": \"on april first i need a flight going from phoenix to san diego\", \n",
    "    \"slots\": \"O B-depart_date.month_name B-depart_date.day_number O O O O O O B-fromloc.city_name O B-toloc.city_name I-toloc.city_name\", \n",
    "    \"intent\": \"flight\"\n",
    "    },\n",
    "    \"...\"\n",
    " ]\n",
    "```"
   ]
  },
  {
   "cell_type": "code",
   "execution_count": 1,
   "id": "70494a60",
   "metadata": {},
   "outputs": [],
   "source": [
    "# If you are using Colab, run these commands\n",
    "# !wget -P dataset/ATIS https://raw.githubusercontent.com/BrownFortress/IntentSlotDatasets/main/ATIS/test.json\n",
    "# !wget -P dataset/ATIS https://raw.githubusercontent.com/BrownFortress/IntentSlotDatasets/main/ATIS/train.json\n",
    "# !wget https://raw.githubusercontent.com/BrownFortress/NLU-2024-Labs/main/labs/conll.py\n",
    "\n"
   ]
  },
  {
   "cell_type": "code",
   "execution_count": 2,
   "id": "80808524",
   "metadata": {},
   "outputs": [],
   "source": [
    "# Global variables\n",
    "import os\n",
    "device = 'cuda:0' # cuda:0 means we are using the GPU with id 0, if you have multiple GPU\n",
    "os.environ['CUDA_LAUNCH_BLOCKING'] = \"1\" # Used to report errors on CUDA side\n",
    "PAD_TOKEN = 0"
   ]
  },
  {
   "cell_type": "code",
   "execution_count": 21,
   "id": "3e1ea7f1",
   "metadata": {},
   "outputs": [
    {
     "name": "stdout",
     "output_type": "stream",
     "text": [
      "Train samples: 4978\n",
      "Test samples: 893 \n",
      "\n"
     ]
    }
   ],
   "source": [
    "import json\n",
    "from pprint import pprint\n",
    "\n",
    "def load_data(path):\n",
    "    '''\n",
    "        input: path/to/data\n",
    "        output: json \n",
    "    '''\n",
    "    dataset = []\n",
    "    with open(path) as f:\n",
    "        dataset = json.loads(f.read())\n",
    "    return dataset\n",
    "\n",
    "tmp_train_raw = load_data(os.path.join('dataset','ATIS','train.json'))\n",
    "test_raw = load_data(os.path.join('dataset','ATIS','test.json'))\n",
    "\n",
    "print('Train samples:', len(tmp_train_raw))\n",
    "# pprint(tmp_train_raw)\n",
    "\n",
    "print('Test samples:', len(test_raw), \"\\n\")\n",
    "# pprint(test_raw)\n"
   ]
  },
  {
   "cell_type": "markdown",
   "id": "eb8b3f37",
   "metadata": {},
   "source": [
    "## 2.3 Create a dev set\n",
    "In the original split the development set (dev set) is missing. To train and find the best hyperparameter of our network the dev set is fundamental. Thus, we have to create it starting from the **traning** set. The dev set is usually the 10% of the dataset. \\\n",
    "Possible sampling strategies:\n",
    "* Take the last n elements of the training set.\n",
    "* Do a random sampling from the training set.\n",
    "* Do a stratified sampling from the training set using one or more criteria. (The best way)\n",
    "    * For further details look [here](https://scikit-learn.org/stable/modules/generated/sklearn.model_selection.train_test_split.html)"
   ]
  },
  {
   "cell_type": "code",
   "execution_count": 28,
   "id": "ccd6da44",
   "metadata": {},
   "outputs": [
    {
     "name": "stdout",
     "output_type": "stream",
     "text": [
      "X_train: 4476\n",
      "X_dev: 498\n",
      "mini_train: 4\n",
      "Train:\n",
      "{'abbreviation': 2.9000000000000004,\n",
      " 'aircraft': 1.6,\n",
      " 'airfare': 8.5,\n",
      " 'airline': 3.2,\n",
      " 'airline+flight_no': 0.0,\n",
      " 'airport': 0.4,\n",
      " 'capacity': 0.3,\n",
      " 'city': 0.4,\n",
      " 'distance': 0.4,\n",
      " 'flight': 73.7,\n",
      " 'flight+airfare': 0.4,\n",
      " 'flight_no': 0.2,\n",
      " 'flight_time': 1.0999999999999999,\n",
      " 'ground_fare': 0.4,\n",
      " 'ground_service': 5.1,\n",
      " 'meal': 0.1,\n",
      " 'quantity': 1.0,\n",
      " 'restriction': 0.1}\n",
      "Dev:\n",
      "{'abbreviation': 3.0,\n",
      " 'aircraft': 1.6,\n",
      " 'airfare': 8.4,\n",
      " 'airline': 3.2,\n",
      " 'airport': 0.4,\n",
      " 'capacity': 0.4,\n",
      " 'city': 0.4,\n",
      " 'distance': 0.4,\n",
      " 'flight': 73.7,\n",
      " 'flight+airfare': 0.4,\n",
      " 'flight_no': 0.2,\n",
      " 'flight_time': 1.0,\n",
      " 'ground_fare': 0.4,\n",
      " 'ground_service': 5.0,\n",
      " 'meal': 0.2,\n",
      " 'quantity': 1.0,\n",
      " 'restriction': 0.2}\n",
      "Test:\n",
      "{'abbreviation': 3.6999999999999997,\n",
      " 'aircraft': 1.0,\n",
      " 'airfare': 5.4,\n",
      " 'airfare+flight': 0.1,\n",
      " 'airline': 4.3,\n",
      " 'airport': 2.0,\n",
      " 'capacity': 2.4,\n",
      " 'city': 0.7000000000000001,\n",
      " 'day_name': 0.2,\n",
      " 'distance': 1.0999999999999999,\n",
      " 'flight': 70.8,\n",
      " 'flight+airfare': 1.3,\n",
      " 'flight+airline': 0.1,\n",
      " 'flight_no': 0.8999999999999999,\n",
      " 'flight_no+airline': 0.1,\n",
      " 'flight_time': 0.1,\n",
      " 'ground_fare': 0.8,\n",
      " 'ground_service': 4.0,\n",
      " 'meal': 0.7000000000000001,\n",
      " 'quantity': 0.3}\n",
      "=========================================================================================\n",
      "TRAIN size: 4480\n",
      "DEV size: 498\n",
      "TEST size: 893\n"
     ]
    }
   ],
   "source": [
    "BertModel\n",
    "\n",
    "labels = []\n",
    "inputs = []\n",
    "mini_train = []\n",
    "\n",
    "for id_y, y in enumerate(intents):\n",
    "    if count_y[y] > 1: # If some intents occurs only once, we put them in training\n",
    "        inputs.append(tmp_train_raw[id_y])\n",
    "        labels.append(y)\n",
    "    else:\n",
    "        mini_train.append(tmp_train_raw[id_y])\n",
    "# Random Stratify\n",
    "X_train, X_dev, y_train, y_dev = train_test_split(inputs, labels, test_size=portion, \n",
    "                                                    random_state=42, \n",
    "                                                    shuffle=True,\n",
    "                                                    stratify=labels)\n",
    "print(\"X_train:\", len(X_train))\n",
    "print(\"X_dev:\", len(X_dev))\n",
    "# print(\"y_dev: \", len(y_dev))\n",
    "# print(\"y_train:\", len(y_train), \"\\n\\n\\n\\n\")\n",
    "print(\"mini_train:\", len(mini_train))\n",
    "# print(\"X_train + mini_train:\", len(X_train) + len(mini_train))\n",
    "\n",
    "\n",
    "X_train.extend(mini_train)\n",
    "train_raw = X_train\n",
    "dev_raw = X_dev\n",
    "\n",
    "y_test = [x['intent'] for x in test_raw]\n",
    "\n",
    "# Intent distributions\n",
    "print('Train:')\n",
    "pprint({k:round(v/len(y_train),3)*100 for k, v in sorted(Counter(y_train).items())})            # This line of code is a dictionary comprehension in Python. \n",
    "                                                                                                # It's creating a new dictionary where:\n",
    "                                                                                                # - The keys (k) are the unique elements found in y_train \n",
    "                                                                                                #   (which are the intents in your training set).\n",
    "                                                                                                # - The values are the percentage of the total number of \n",
    "                                                                                                #   training examples that have that intent.\n",
    "print('Dev:'), \n",
    "pprint({k:round(v/len(y_dev),3)*100 for k, v in sorted(Counter(y_dev).items())})\n",
    "print('Test:') \n",
    "pprint({k:round(v/len(y_test),3)*100 for k, v in sorted(Counter(y_test).items())})\n",
    "print('='*89)\n",
    "# Dataset size\n",
    "print('TRAIN size:', len(train_raw))\n",
    "print('DEV size:', len(dev_raw))\n",
    "print('TEST size:', len(test_raw))"
   ]
  },
  {
   "cell_type": "markdown",
   "id": "c76bbdbe",
   "metadata": {},
   "source": [
    "## 2.3 Convert words to numbers (word2id)\n",
    "Neural Networks in Pytorch, as in other libraries, work with numbers and vectors.\n",
    "<br><br>\n",
    "\n",
    "**Exercise 1** *(10 minutes)*\n",
    "* Create a dictionary that maps the words and labels in the training set to unique  integers $\\geq$ 0, called indexes.\n",
    "    That is:\n",
    "    - One dictionary for mapping words to ids (w2id)\n",
    "    - One dictionary for mapping slot labels to ids (slot2id)\n",
    "    - One dictionary for mapping intent labels to ids (intent2id)\n",
    "\n",
    "* With w2id map the sentence in `sent` into the computed indexes.\n",
    "\n",
    "***Example:***\n",
    "```python\n",
    "dictionary = {\"from\": 2, \"Boston\":88, \"to\":105, \"Tokyo\":42}\n",
    "sent = \"from Boston to Tokyo\" \n",
    "# Output:\n",
    "[2,88,105,42]\n",
    "```\n",
    "\n",
    "We will see later how to convert these indexes into vectors (aka embeddings).\n",
    "\n",
    "*Add special tokens \"pad\" and \"unk\"*\n"
   ]
  },
  {
   "cell_type": "code",
   "execution_count": 29,
   "id": "ea03b2aa",
   "metadata": {},
   "outputs": [
    {
     "name": "stdout",
     "output_type": "stream",
     "text": [
      "# Vocab: 864\n",
      "# Slots: 129\n",
      "# Intent: 26\n"
     ]
    }
   ],
   "source": [
    "# from collections import Counter\n",
    "\n",
    "# w2id = {'pad':PAD_TOKEN, 'unk': 1}\n",
    "# slot2id = {'pad':PAD_TOKEN}\n",
    "# intent2id = {}\n",
    "# # Map the words only from the train set\n",
    "# # Map slot and intent labels of train, dev and test set. 'unk' is not needed.\n",
    "# for example in train_raw:\n",
    "#     for w in example['utterance'].split():\n",
    "#         if w not in w2id:\n",
    "#             w2id[w] = len(w2id)   \n",
    "#     for slot in example['slots'].split():\n",
    "#         if slot not in slot2id:\n",
    "#             slot2id[slot] = len(slot2id)\n",
    "#     if example['intent'] not in intent2id:\n",
    "#         # intent2id[example['intent']] = len(intent2id)\n",
    "        \n",
    "# for example in dev_raw:\n",
    "#     for slot in example['slots'].split():\n",
    "#         if slot not in slot2id:\n",
    "#             slot2id[slot] = len(slot2id)\n",
    "#     if example['intent'] not in intent2id:\n",
    "#         intent2id[example['intent']] = len(intent2id)\n",
    "        \n",
    "# for example in test_raw:\n",
    "#     for slot in example['slots'].split():\n",
    "#         if slot not in slot2id:\n",
    "#             slot2id[slot] = len(slot2id)\n",
    "#     if example['intent'] not in intent2id:\n",
    "#         intent2id[example['intent']] = len(intent2id)\n",
    "\n",
    "# sent = 'I wanna a flight from Toronto to Kuala Lumpur'\n",
    "# mapping = [w2id[w] if w in w2id else w2id['unk'] for w in sent.split()]\n",
    "\n",
    "# print('# Vocab:', len(w2id)-2) # we remove pad and unk from the count\n",
    "# print('# Slots:', len(slot2id)-1)\n",
    "# print('# Intent:', len(intent2id))\n"
   ]
  },
  {
   "cell_type": "markdown",
   "id": "c9be408b",
   "metadata": {},
   "source": [
    "## 2.4 Lang class\n",
    "Later we will need to convert those numbers in the original form, so we need to invert those dictionaries. We create a class named as Lang just for convenience."
   ]
  },
  {
   "cell_type": "code",
   "execution_count": 6,
   "id": "4c04f608",
   "metadata": {},
   "outputs": [],
   "source": [
    "from collections import Counter\n",
    "class Lang():\n",
    "    def __init__(self, words, intents, slots, cutoff=0):\n",
    "        self.word2id = self.w2id(words, cutoff=cutoff, unk=True)\n",
    "        self.slot2id = self.lab2id(slots)\n",
    "        self.intent2id = self.lab2id(intents, pad=False)\n",
    "        self.id2word = {v:k for k, v in self.word2id.items()}\n",
    "        self.id2slot = {v:k for k, v in self.slot2id.items()}\n",
    "        self.id2intent = {v:k for k, v in self.intent2id.items()}\n",
    "        \n",
    "    def w2id(self, elements, cutoff=None, unk=True):\n",
    "        vocab = {'pad': PAD_TOKEN}\n",
    "        if unk:\n",
    "            vocab['unk'] = len(vocab)\n",
    "        count = Counter(elements)\n",
    "        for k, v in count.items():\n",
    "            if v > cutoff:\n",
    "                vocab[k] = len(vocab)\n",
    "        return vocab\n",
    "    \n",
    "    def lab2id(self, elements, pad=True):\n",
    "        vocab = {}\n",
    "        if pad:\n",
    "            vocab['pad'] = PAD_TOKEN\n",
    "        for elem in elements:\n",
    "                vocab[elem] = len(vocab)\n",
    "        return vocab"
   ]
  },
  {
   "cell_type": "code",
   "execution_count": 38,
   "id": "d77bc3bc",
   "metadata": {},
   "outputs": [
    {
     "name": "stdout",
     "output_type": "stream",
     "text": [
      "Words: 50974\n",
      "Slots: {'B-day_number', 'B-depart_time.end_time', 'B-toloc.airport_name', 'B-depart_date.date_relative', 'I-depart_date.day_number', 'B-time', 'B-arrive_date.date_relative', 'B-return_date.today_relative', 'B-airline_name', 'B-meal_code', 'I-flight_number', 'I-arrive_time.start_time', 'B-booking_class', 'B-stoploc.state_code', 'B-today_relative', 'B-aircraft_code', 'I-restriction_code', 'I-return_date.day_number', 'B-city_name', 'I-return_date.today_relative', 'B-arrive_time.period_mod', 'B-fare_amount', 'B-depart_time.time_relative', 'B-return_date.date_relative', 'B-depart_date.day_name', 'I-fare_amount', 'B-fromloc.airport_name', 'I-depart_time.start_time', 'B-fromloc.state_code', 'I-city_name', 'I-depart_time.time', 'B-toloc.state_code', 'B-depart_date.month_name', 'B-stoploc.city_name', 'B-depart_date.today_relative', 'B-period_of_day', 'I-depart_date.day_name', 'B-flight_stop', 'B-connect', 'I-class_type', 'B-fromloc.city_name', 'B-class_type', 'B-flight_mod', 'B-compartment', 'B-depart_time.time', 'I-transport_type', 'B-flight', 'I-round_trip', 'B-arrive_date.day_name', 'B-arrive_date.today_relative', 'I-depart_time.period_of_day', 'B-return_time.period_mod', 'I-arrive_time.period_of_day', 'I-toloc.state_name', 'B-fromloc.airport_code', 'B-flight_number', 'B-flight_time', 'B-depart_time.start_time', 'B-depart_date.year', 'B-day_name', 'B-arrive_time.time', 'I-airport_name', 'I-today_relative', 'I-flight_time', 'B-month_name', 'B-airport_code', 'B-return_date.day_number', 'I-toloc.city_name', 'B-flight_days', 'B-fromloc.state_name', 'B-return_date.day_name', 'I-arrive_time.end_time', 'I-arrive_time.time_relative', 'I-meal_description', 'I-flight_stop', 'B-toloc.city_name', 'B-depart_date.day_number', 'B-depart_time.period_of_day', 'O', 'B-arrive_time.start_time', 'B-time_relative', 'B-restriction_code', 'I-flight_mod', 'I-return_date.date_relative', 'I-economy', 'I-fare_basis_code', 'B-days_code', 'B-state_code', 'B-arrive_time.time_relative', 'B-fare_basis_code', 'I-state_name', 'I-fromloc.state_name', 'B-airline_code', 'I-mod', 'I-cost_relative', 'I-depart_time.time_relative', 'B-meal', 'B-meal_description', 'I-toloc.airport_name', 'B-stoploc.airport_name', 'I-depart_time.end_time', 'B-economy', 'I-stoploc.city_name', 'B-arrive_date.day_number', 'I-airline_name', 'B-toloc.country_name', 'I-fromloc.city_name', 'B-return_date.month_name', 'B-round_trip', 'B-return_time.period_of_day', 'B-airport_name', 'I-meal_code', 'B-transport_type', 'I-arrive_date.day_number', 'B-arrive_time.end_time', 'I-time', 'B-arrive_date.month_name', 'B-or', 'B-arrive_time.period_of_day', 'I-depart_date.today_relative', 'I-arrive_time.time', 'B-mod', 'B-toloc.state_name', 'B-cost_relative', 'B-stoploc.airport_code', 'B-state_name', 'B-depart_time.period_mod', 'B-toloc.airport_code', 'I-fromloc.airport_name'}\n",
      "Intents: {'quantity', 'abbreviation', 'airline', 'ground_service+ground_fare', 'distance', 'flight', 'ground_fare', 'restriction', 'flight_no+airline', 'airfare+flight_time', 'meal', 'day_name', 'airfare', 'flight_time', 'flight_no', 'capacity', 'ground_service', 'aircraft+flight+flight_no', 'flight+airline', 'aircraft', 'cheapest', 'airport', 'airfare+flight', 'flight+airfare', 'airline+flight_no', 'city'}\n",
      "id2intent:  {0: 'quantity', 1: 'abbreviation', 2: 'airline', 3: 'ground_service+ground_fare', 4: 'distance', 5: 'flight', 6: 'ground_fare', 7: 'restriction', 8: 'flight_no+airline', 9: 'airfare+flight_time', 10: 'meal', 11: 'day_name', 12: 'airfare', 13: 'flight_time', 14: 'flight_no', 15: 'capacity', 16: 'ground_service', 17: 'aircraft+flight+flight_no', 18: 'flight+airline', 19: 'aircraft', 20: 'cheapest', 21: 'airport', 22: 'airfare+flight', 23: 'flight+airfare', 24: 'airline+flight_no', 25: 'city'}\n",
      "id2word:  {0: 'pad', 1: 'unk', 2: 'what', 3: 'is', 4: 'the', 5: 'cost', 6: 'for', 7: 'these', 8: 'flights', 9: 'from', 10: 'baltimore', 11: 'to', 12: 'philadelphia', 13: 'westchester', 14: 'county', 15: 'san', 16: 'francisco', 17: 'daily', 18: 'i', 19: 'would', 20: 'like', 21: 'a', 22: 'flight', 23: 'dallas', 24: 'on', 25: 'american', 26: 'airlines', 27: 'can', 28: 'take', 29: 'single', 30: 'airline', 31: 'la', 32: 'charlotte', 33: 'newark', 34: 'back', 35: 'earliest', 36: 'oakland', 37: 'washington', 38: 'dc', 39: 'sunday', 40: \"'d\", 41: 'book', 42: 'columbus', 43: 'nashville', 44: 'please', 45: 'denver', 46: 'pittsburgh', 47: 'show', 48: 'me', 49: 'round', 50: 'trip', 51: 'tickets', 52: 'new', 53: 'york', 54: 'miami', 55: 'phoenix', 56: 'las', 57: 'vegas', 58: 'find', 59: 'cheapest', 60: 'fare', 61: 'atlanta', 62: \"'s\", 63: 'latest', 64: 'get', 65: 'boston', 66: 'arrival', 67: 'in', 68: 'salt', 69: 'lake', 70: 'city', 71: 'of', 72: 'toronto', 73: 'list', 74: 'nonstop', 75: 'along', 76: 'with', 77: 'fares', 78: 'that', 79: 'are', 80: 'less', 81: 'than', 82: '466', 83: 'dollars', 84: 'all', 85: 'between', 86: 'and', 87: 'coach', 88: 'saturday', 89: 'pm', 90: 'continental', 91: 'leaving', 92: 'chicago', 93: 'morning', 94: 'hi', 95: \"'m\", 96: 'calling', 97: 'make', 98: 'either', 99: 'orlando', 100: 'or', 101: 'los', 102: 'angeles', 103: 'us', 104: 'air', 105: 'cleveland', 106: 'arrives', 107: 'around', 108: '10', 109: \"o'clock\", 110: 'evening', 111: 'need', 112: 'lowest', 113: 'give', 114: 'memphis', 115: 'time', 116: 'zone', 117: 'does', 118: 'abbreviation', 119: 'ua', 120: 'mean', 121: 'one', 122: 'way', 123: 'ground', 124: 'transportation', 125: 'available', 126: 'at', 127: 'airport', 128: 'tacoma', 129: 'jose', 130: 'houston', 131: 'will', 132: 'car', 133: 'twa', 134: 'united', 135: 'fly', 136: 'fort', 137: 'worth', 138: 'leaves', 139: 'after', 140: '8', 141: 'going', 142: 'november', 143: 'seventh', 144: 'monday', 145: 'seating', 146: 'capacity', 147: 'f28', 148: 'seattle', 149: 'classes', 150: 'service', 151: 'provide', 152: 'anywhere', 153: 'arriving', 154: '2100', 155: 'information', 156: 'departing', 157: 'thursday', 158: 'before', 159: '9', 160: 'am', 161: 'dl', 162: '217', 163: 'there', 164: 'any', 165: 'using', 166: 'j31', 167: 'aircraft', 168: 'meal', 169: 'milwaukee', 170: 'wednesday', 171: 'night', 172: 'tuesday', 173: 'afternoon', 174: 'flying', 175: 'want', 176: 'see', 177: 'you', 178: 'delta', 179: 'an', 180: 'stopover', 181: 'say', 182: 'about', 183: 'mealtime', 184: 'arrive', 185: 'noon', 186: '3', 187: 'which', 188: 'go', 189: 'stop', 190: 'making', 191: 'both', 192: 'direct', 193: 'connecting', 194: 'kansas', 195: 'burbank', 196: 'may', 197: 'twenty', 198: 'two', 199: 'depart', 200: '7', 201: 'could', 202: 'general', 203: 'mitchell', 204: 'international', 205: 'downtown', 206: 'through', 207: 'code', 208: 'ff', 209: 'next', 210: 'do', 211: '747', 212: 'first', 213: 'into', 214: 'march', 215: 'last', 216: 'restriction', 217: 'ap', 218: '57', 219: 'leave', 220: 'early', 221: 'tell', 222: \"'ll\", 223: 'rent', 224: 'know', 225: 'price', 226: 'class', 227: 'seats', 228: 'nw', 229: 'weekday', 230: 'indianapolis', 231: '5', 232: '6', 233: 'so', 234: 'when', 235: 'have', 236: 'maximum', 237: 'amount', 238: 'still', 239: 'return', 240: 'same', 241: 'day', 242: '1700', 243: 'only', 244: 'weekdays', 245: 'love', 246: 'field', 247: 'plane', 248: 'grounds', 249: 'st.', 250: 'louis', 251: 'paul', 252: 'distance', 253: 'guardia', 254: 'prices', 255: 'most', 256: 'expensive', 257: 'detroit', 258: 'friday', 259: 'qx', 260: 'jersey', 261: 'ap80', 262: 'serves', 263: 'august', 264: 'sixth', 265: 'where', 266: 'each', 267: '1000', 268: 'tampa', 269: 'april', 270: 'june', 271: 'economy', 272: 'thirty', 273: 'number', 274: 'again', 275: 'dinner', 276: 'looking', 277: 'diego', 278: '1', 279: 'now', 280: 'fourth', 281: 'breakfast', 282: 'via', 283: 'tomorrow', 284: 'qo', 285: 'no', 286: 'week', 287: 'lunch', 288: 'hou', 289: 'ac', 290: 'as', 291: 'explain', 292: 'q', 293: 'long', 294: 'beach', 295: 'how', 296: 'many', 297: 'yn', 298: 'okay', 299: 'just', 300: 'takeoffs', 301: 'landings', 302: 'july', 303: 'eighth', 304: 'philly', 305: 'ninth', 306: 'serving', 307: 'california', 308: 'serve', 309: '12', 310: '4', 311: 'fourteenth', 312: 'makes', 313: 'wednesdays', 314: 'another', 315: 'cincinnati', 316: 'times', 317: 'later', 318: 'interested', 319: 'should', 320: 'be', 321: 'kind', 322: 'airplane', 323: '281', 324: 'bwi', 325: 'second', 326: 'petersburg', 327: 'types', 328: 'today', 329: 'colorado', 330: 'pennsylvania', 331: 'then', 332: 'eleventh', 333: 'more', 334: 'stops', 335: 'provided', 336: 'by', 337: 'travel', 338: 'mia', 339: 'but', 340: 'ontario', 341: 'limo', 342: 'out', 343: 'taxi', 344: 'operation', 345: '230', 346: 'texas', 347: 'my', 348: 'choices', 349: 'your', 350: '1059', 351: 'minneapolis', 352: 'schedule', 353: 'ticket', 354: 'least', 355: 'october', 356: 'fifteenth', 357: 'used', 358: '1222', 359: 'america', 360: 'west', 361: 'southwest', 362: 'sorry', 363: '271', 364: 'hp', 365: 'tower', 366: 'fifth', 367: 'restrictions', 368: 'airfare', 369: '416', 370: 'trying', 371: 'eastern', 372: '838', 373: '1100', 374: 'days', 375: 'goes', 376: 'sfo', 377: 'ewr', 378: 'december', 379: 'sixteenth', 380: 'if', 381: 'possible', 382: 'northwest', 383: 'transport', 384: 'live', 385: 'montreal', 386: 'home', 387: 'numbers', 388: 'six', 389: 'qw', 390: 'september', 391: 'far', 392: 'it', 393: 'booking', 394: 'k', 395: '415', 396: 'other', 397: 'airports', 398: 'meals', 399: 'services', 400: 'cities', 401: 'served', 402: 'nationair', 403: 'stopping', 404: '2', 405: 'third', 406: '730', 407: 'rental', 408: 'rates', 409: 'tenth', 410: 'reaching', 411: 'arrangements', 412: 'stands', 413: 'total', 414: 'thank', 415: 'sixteen', 416: 'late', 417: 'b', 418: 'business', 419: 'mco', 420: 'stand', 421: 'type', 422: 'during', 423: 'much', 424: 'bay', 425: 'area', 426: 'lufthansa', 427: '1991', 428: 'jet', 429: 'run', 430: 'jfk', 431: 'shortest', 432: 'without', 433: '720', 434: 'smallest', 435: 'flies', 436: 'eight', 437: 'limousine', 438: 'thirtieth', 439: 'mornings', 440: '645', 441: 'thrift', 442: 'month', 443: 'departure', 444: 'f', 445: 'saturdays', 446: 'right', 447: 'c', 448: 'takes', 449: 'landing', 450: '823', 451: '124', 452: '402', 453: 'fine', 454: 'difference', 455: 'costs', 456: 'level', 457: 'kinds', 458: '755', 459: 'originate', 460: 'destination', 461: 'greatest', 462: 'logan', 463: 'seventeen', 464: 'located', 465: 'oak', 466: 'atl', 467: '630', 468: 'meaning', 469: 'start', 470: 'thanks', 471: 'also', 472: 'eighteenth', 473: 'twelfth', 474: 'boeing', 475: '737', 476: 'display', 477: 'laying', 478: 'over', 479: 'include', 480: 'able', 481: 'put', 482: 'january', 483: '1992', 484: 'h', 485: 'heading', 486: 'ls', 487: 'different', 488: 'offers', 489: 'rentals', 490: 'plan', 491: 'codes', 492: 'airplanes', 493: 'name', 494: 'options', 495: 'noontime', 496: 'has', 497: 'canada', 498: 'layover', 499: 'trips', 500: 'nineteenth', 501: 'they', 502: 'fn', 503: 'across', 504: 'this', 505: 'continent', 506: 'm80', 507: 'cheap', 508: 'coming', 509: '819', 510: 'within', 511: '201', 512: '343', 513: 'florida', 514: 'schedules', 515: 'aa', 516: '459', 517: 'midnight', 518: '934', 519: 'rate', 520: 'hello', 521: 'inform', 522: 'sometime', 523: '1039', 524: '1024', 525: 'currently', 526: 'returning', 527: 'co', 528: 'continuing', 529: 'buy', 530: 'near', 531: '430', 532: '530', 533: 'twentieth', 534: 'arrange', 535: 'friends', 536: 'people', 537: 'uses', 538: 'wanted', 539: 'let', 540: 'iah', 541: 'some', 542: 'sure', 543: 'determine', 544: 'use', 545: 'minnesota', 546: '852', 547: '80', 548: 'economic', 549: '825', 550: '555', 551: 'staying', 552: 'hours', 553: 'traveling', 554: '1145', 555: 'their', 556: 'following', 557: 'local', 558: 'equal', 559: '270', 560: 'north', 561: 'carolina', 562: '1115', 563: '1245', 564: 'town', 565: 'midwest', 566: 'express', 567: 'canadian', 568: 'stopovers', 569: 'requesting', 570: 'here', 571: '11', 572: 'offer', 573: 'regarding', 574: 'bring', 575: 'up', 576: 'turboprop', 577: 'originating', 578: 'order', 579: 'yes', 580: '225', 581: '1158', 582: 'equipment', 583: 'arizona', 584: 'arrivals', 585: 'starting', 586: 'names', 587: '1291', 588: '1220', 589: 'snack', 590: 'great', 591: 'too', 592: 'we', 593: \"'re\", 594: 'nighttime', 595: 'while', 596: 'reservation', 597: 'dfw', 598: '734', 599: 'highest', 600: '130', 601: 'connect', 602: '98', 603: 'kindly', 604: '813', 605: 'straight', 606: '110', 607: 'y', 608: 'look', 609: 'listing', 610: 'earlier', 611: '1017', 612: '2134', 613: '300', 614: '400', 615: 'connections', 616: 'seven', 617: 'must', 618: '1026', 619: 'approximately', 620: 'cp', 621: 'reservations', 622: 'capacities', 623: 'planes', 624: 'february', 625: 'twelve', 626: 'nights', 627: 'ea', 628: '212', 629: '100', 630: 'nonstops', 631: '296', 632: '324', 633: 'missouri', 634: 'utah', 635: 'those', 636: '210', 637: 'very', 638: 'help', 639: 'provides', 640: 'ohio', 641: '106', 642: 'soon', 643: 'tuesdays', 644: 'stapleton', 645: '71', 646: 'repeating', 647: 'define', 648: 'ord', 649: '269', 650: '1600', 651: 'quebec', 652: 'describe', 653: 'red', 654: 'eye', 655: 'tonight', 656: 'ap68', 657: '845', 658: 'dc10', 659: 'dulles', 660: '767', 661: '1993', 662: \"'ve\", 663: 'got', 664: 'somebody', 665: 'else', 666: 'who', 667: 'wants', 668: '305', 669: 's', 670: 'designate', 671: 'seventeenth', 672: 'concerning', 673: 'eleven', 674: 'carried', 675: 'under', 676: '771', 677: 'begins', 678: 'lands', 679: '55', 680: 'summer', 681: 'overnight', 682: 'spend', 683: 'lastest', 684: 'three', 685: '650', 686: 'itinerary', 687: 'departs', 688: 'qualify', 689: '417', 690: '150', 691: '2153', 692: 'cars', 693: '1300', 694: 'repeat', 695: 'represented', 696: 'database', 697: 'four', 698: '257', 699: 'oh', 700: 'ten', 701: 'thursdays', 702: '329', 703: 'ap57', 704: '0900', 705: '815', 706: 'cover', 707: 'minimum', 708: 'connection', 709: 'intercontinental', 710: 'planning', 711: 'fit', 712: '72s', 713: '420', 714: 'georgia', 715: 'serviced', 716: 'question', 717: 'thereafter', 718: 'travels', 719: '73s', 720: 'everywhere', 721: 'sd', 722: 'd', 723: 'advertises', 724: 'having', 725: '3357', 726: '705', 727: 'thing', 728: 'bur', 729: 'taking', 730: 'off', 731: 'passengers', 732: 'hold', 733: '500', 734: 'airfares', 735: '4400', 736: 'year', 737: '932', 738: '757', 739: 'abbreviations', 740: '19', 741: 'wish', 742: 'discount', 743: 'date', 744: '497766', 745: '1020', 746: '21', 747: 'beginning', 748: 'doesn', 749: \"'t\", 750: 'sa', 751: 'close', 752: 'departures', 753: 'carries', 754: '733', 755: '311', 756: 'priced', 757: 'midway', 758: 'indiana', 759: '279', 760: '137338', 761: 'nevada', 762: 'non', 763: 'alaska', 764: '1110', 765: '718', 766: 'various', 767: '746', 768: 'd9s', 769: '1940', 770: 'listed', 771: '1055', 772: '405', 773: 'scheduled', 774: 'usa', 775: 'such', 776: '615', 777: 'land', 778: 'sundays', 779: 'prefer', 780: 'd10', 781: 'o', 782: \"'hare\", 783: 'fridays', 784: 'dinnertime', 785: 'bound', 786: 'well', 787: 'try', 788: '1205', 789: 'train', 790: 'being', 791: 'actually', 792: '445', 793: '515', 794: 'takeoff', 795: 'seat', 796: 'preferably', 797: 'directly', 798: '82', 799: '139', 800: 'visit', 801: 'them', 802: 'lives', 803: '1045', 804: 'enroute', 805: 'largest', 806: 'm', 807: '428', 808: 'transcontinental', 809: 'anything', 810: 'listings', 811: 'come', 812: 'lester', 813: 'pearson', 814: 'longest', 815: 'michigan', 816: '1765', 817: '352', 818: 'toward', 819: 'companies', 820: 'vicinity', 821: 'connects', 822: 'supper', 823: '505', 824: '163', 825: 'hopefully', 826: '928', 827: 'final', 828: 'thirteenth', 829: 'besides', 830: '1850', 831: 'symbols', 832: 'limousines', 833: 'route', 834: 'once', 835: 'includes', 836: '323', 837: '229', 838: 'runs', 839: '1133', 840: '43', 841: '315', 842: 'bna', 843: '1505', 844: '3724', 845: 'reaches', 846: 'including', 847: 'afternoons', 848: 'working', 849: 'scenario', 850: '727', 851: '1500', 852: '539', 853: 'trans', 854: 'world', 855: '1030', 856: '1130', 857: 'tennessee', 858: 'sounds', 859: 'reverse', 860: 'sort', 861: 'afterwards', 862: '723', 863: '1083', 864: 'proper', 865: 'closest'}\n",
      "id2slot:  {0: 'pad', 1: 'B-day_number', 2: 'B-depart_time.end_time', 3: 'B-toloc.airport_name', 4: 'B-depart_date.date_relative', 5: 'I-depart_date.day_number', 6: 'B-time', 7: 'B-arrive_date.date_relative', 8: 'B-return_date.today_relative', 9: 'B-airline_name', 10: 'B-meal_code', 11: 'I-flight_number', 12: 'I-arrive_time.start_time', 13: 'B-booking_class', 14: 'B-stoploc.state_code', 15: 'B-today_relative', 16: 'B-aircraft_code', 17: 'I-restriction_code', 18: 'I-return_date.day_number', 19: 'B-city_name', 20: 'I-return_date.today_relative', 21: 'B-arrive_time.period_mod', 22: 'B-fare_amount', 23: 'B-depart_time.time_relative', 24: 'B-return_date.date_relative', 25: 'B-depart_date.day_name', 26: 'I-fare_amount', 27: 'B-fromloc.airport_name', 28: 'I-depart_time.start_time', 29: 'B-fromloc.state_code', 30: 'I-city_name', 31: 'I-depart_time.time', 32: 'B-toloc.state_code', 33: 'B-depart_date.month_name', 34: 'B-stoploc.city_name', 35: 'B-depart_date.today_relative', 36: 'B-period_of_day', 37: 'I-depart_date.day_name', 38: 'B-flight_stop', 39: 'B-connect', 40: 'I-class_type', 41: 'B-fromloc.city_name', 42: 'B-class_type', 43: 'B-flight_mod', 44: 'B-compartment', 45: 'B-depart_time.time', 46: 'I-transport_type', 47: 'B-flight', 48: 'I-round_trip', 49: 'B-arrive_date.day_name', 50: 'B-arrive_date.today_relative', 51: 'I-depart_time.period_of_day', 52: 'B-return_time.period_mod', 53: 'I-arrive_time.period_of_day', 54: 'I-toloc.state_name', 55: 'B-fromloc.airport_code', 56: 'B-flight_number', 57: 'B-flight_time', 58: 'B-depart_time.start_time', 59: 'B-depart_date.year', 60: 'B-day_name', 61: 'B-arrive_time.time', 62: 'I-airport_name', 63: 'I-today_relative', 64: 'I-flight_time', 65: 'B-month_name', 66: 'B-airport_code', 67: 'B-return_date.day_number', 68: 'I-toloc.city_name', 69: 'B-flight_days', 70: 'B-fromloc.state_name', 71: 'B-return_date.day_name', 72: 'I-arrive_time.end_time', 73: 'I-arrive_time.time_relative', 74: 'I-meal_description', 75: 'I-flight_stop', 76: 'B-toloc.city_name', 77: 'B-depart_date.day_number', 78: 'B-depart_time.period_of_day', 79: 'O', 80: 'B-arrive_time.start_time', 81: 'B-time_relative', 82: 'B-restriction_code', 83: 'I-flight_mod', 84: 'I-return_date.date_relative', 85: 'I-economy', 86: 'I-fare_basis_code', 87: 'B-days_code', 88: 'B-state_code', 89: 'B-arrive_time.time_relative', 90: 'B-fare_basis_code', 91: 'I-state_name', 92: 'I-fromloc.state_name', 93: 'B-airline_code', 94: 'I-mod', 95: 'I-cost_relative', 96: 'I-depart_time.time_relative', 97: 'B-meal', 98: 'B-meal_description', 99: 'I-toloc.airport_name', 100: 'B-stoploc.airport_name', 101: 'I-depart_time.end_time', 102: 'B-economy', 103: 'I-stoploc.city_name', 104: 'B-arrive_date.day_number', 105: 'I-airline_name', 106: 'B-toloc.country_name', 107: 'I-fromloc.city_name', 108: 'B-return_date.month_name', 109: 'B-round_trip', 110: 'B-return_time.period_of_day', 111: 'B-airport_name', 112: 'I-meal_code', 113: 'B-transport_type', 114: 'I-arrive_date.day_number', 115: 'B-arrive_time.end_time', 116: 'I-time', 117: 'B-arrive_date.month_name', 118: 'B-or', 119: 'B-arrive_time.period_of_day', 120: 'I-depart_date.today_relative', 121: 'I-arrive_time.time', 122: 'B-mod', 123: 'B-toloc.state_name', 124: 'B-cost_relative', 125: 'B-stoploc.airport_code', 126: 'B-state_name', 127: 'B-depart_time.period_mod', 128: 'B-toloc.airport_code', 129: 'I-fromloc.airport_name'}\n"
     ]
    }
   ],
   "source": [
    "words = sum([x['utterance'].split() for x in train_raw], []) # No set() since we want to compute the cutoff\n",
    "\n",
    "print('Words:', len(words))\n",
    "\n",
    "corpus = train_raw + dev_raw + test_raw # We do not want unk labels, however this depends on the research purpose\n",
    "\n",
    "# print(corpus)\n",
    "\n",
    "slots = set(sum([line['slots'].split() for line in corpus],[]))\n",
    "print('Slots:', slots)\n",
    "intents = set([line['intent'] for line in corpus])\n",
    "print('Intents:', intents)\n",
    "\n",
    "lang = Lang(words, intents, slots, cutoff=0)\n",
    "\n",
    "print(\"id2intent: \", lang.id2intent)\n",
    "print(\"id2word: \", lang.id2word)\n",
    "\n",
    "print(\"id2slot: \", lang.id2slot)\n"
   ]
  },
  {
   "cell_type": "markdown",
   "id": "d5ac746e",
   "metadata": {},
   "source": [
    "## 2.5 Customize the Dataset class\n",
    "In Pytorch the Dataset class helps you in handeling the dataset. The mandatory methods are ```__init__, __len__ and __getitem__```. <br>\n",
    "You can find more details here: https://pytorch.org/tutorials/beginner/basics/data_tutorial.html "
   ]
  },
  {
   "cell_type": "code",
   "execution_count": 8,
   "id": "01b4823f",
   "metadata": {},
   "outputs": [],
   "source": [
    "import torch\n",
    "import torch.utils.data as data\n",
    "\n",
    "class IntentsAndSlots (data.Dataset):\n",
    "    # Mandatory methods are __init__, __len__ and __getitem__\n",
    "    def __init__(self, dataset, lang, unk='unk'):\n",
    "        self.utterances = []\n",
    "        self.intents = []\n",
    "        self.slots = []\n",
    "        self.unk = unk\n",
    "        \n",
    "        for x in dataset:\n",
    "            self.utterances.append(x['utterance'])\n",
    "            self.slots.append(x['slots'])\n",
    "            self.intents.append(x['intent'])\n",
    "\n",
    "        self.utt_ids = self.mapping_seq(self.utterances, lang.word2id)\n",
    "        self.slot_ids = self.mapping_seq(self.slots, lang.slot2id)\n",
    "        self.intent_ids = self.mapping_lab(self.intents, lang.intent2id)\n",
    "\n",
    "    def __len__(self):\n",
    "        return len(self.utterances)\n",
    "\n",
    "    def __getitem__(self, idx):\n",
    "        utt = torch.Tensor(self.utt_ids[idx])\n",
    "        slots = torch.Tensor(self.slot_ids[idx])\n",
    "        intent = self.intent_ids[idx]\n",
    "        sample = {'utterance': utt, 'slots': slots, 'intent': intent}\n",
    "        return sample\n",
    "    \n",
    "    # Auxiliary methods\n",
    "    \n",
    "    def mapping_lab(self, data, mapper):\n",
    "        return [mapper[x] if x in mapper else mapper[self.unk] for x in data]\n",
    "    \n",
    "    def mapping_seq(self, data, mapper): # Map sequences to number\n",
    "        res = []\n",
    "        for seq in data:\n",
    "            tmp_seq = []\n",
    "            for x in seq.split():\n",
    "                if x in mapper:\n",
    "                    tmp_seq.append(mapper[x])\n",
    "                else:\n",
    "                    tmp_seq.append(mapper[self.unk])\n",
    "            res.append(tmp_seq)\n",
    "        return res\n"
   ]
  },
  {
   "cell_type": "code",
   "execution_count": 39,
   "id": "845ab541",
   "metadata": {},
   "outputs": [],
   "source": [
    "# Create our datasets\n",
    "train_dataset = IntentsAndSlots(train_raw, lang)\n",
    "# print(train_dataset[0])\n",
    "\n",
    "dev_dataset = IntentsAndSlots(dev_raw, lang)\n",
    "test_dataset = IntentsAndSlots(test_raw, lang)"
   ]
  },
  {
   "cell_type": "markdown",
   "id": "d297a312",
   "metadata": {},
   "source": [
    "# 3 Batches\n",
    "Batches are used to handle large datasets in the memory. Since the whole dataset cannot fit in GPU memories, we randomly shuffle the dataset and we split it in small batches that will be processed one at a time.\n",
    "## 3.1 Padding\n",
    "Padding is a strategy to fit sequences of different lengths into a matrix. For instance:\n",
    "\n",
    "| Right padding|   |    |   |  |  |  |  \n",
    "|---|----|---|---|---|------|---|\n",
    "| I | saw| a | unk | with | a | telescope | \n",
    "| book | me | a | flight | [pad] | [pad] | [pad] | \n",
    "\n",
    "| Left padding|   |    |   |  |  |  |  \n",
    "|---|----|---|---|---|------|---|\n",
    "| I | saw| a | unk | with | a | telescope | \n",
    "| [pad] | [pad] | [pad] | book | me | a | flight | \n",
    "\n"
   ]
  },
  {
   "cell_type": "markdown",
   "id": "874eb4c4",
   "metadata": {},
   "source": [
    "**Exercise 2** *(5 minutes)* <br> \n",
    "Write a function that adds padding on the right. (No need to convert the sentences to numbers)"
   ]
  },
  {
   "cell_type": "code",
   "execution_count": 47,
   "id": "71bb2fe9",
   "metadata": {},
   "outputs": [
    {
     "name": "stdout",
     "output_type": "stream",
     "text": [
      "[['I', 'saw', 'a', 'man', 'with', 'a', 'telescope', 'PAD', 'PAD', 'PAD'],\n",
      " ['book', 'me', 'a', 'flight', 'PAD', 'PAD', 'PAD', 'PAD', 'PAD', 'PAD'],\n",
      " ['I', 'want', 'to', 'see', 'the', 'flights', 'from', 'Milan', 'to', 'Ibiza']]\n"
     ]
    }
   ],
   "source": [
    "# split them by white space\n",
    "from pprint import pprint\n",
    "\n",
    "sequences = ['I saw a man with a telescope', \n",
    "             'book me a flight', \n",
    "             'I want to see the flights from Milan to Ibiza']\n",
    "\n",
    "right = True\n",
    "\n",
    "splitted = [seq.split() for seq in sequences]\n",
    "max_len = max([len(seq) for seq in splitted])\n",
    "padded_seq = []\n",
    "for seq in splitted:\n",
    "    diff = max_len - len(seq)\n",
    "    if diff != 0 and right:                 # right_padding\n",
    "        # Depending on the side of the addition we can get left or right padding\n",
    "        padded_seq.append(seq + ['PAD'] * diff)\n",
    "    elif diff != 0 and not right:           # left_padding\n",
    "        padded_seq.append(['PAD'] * diff + seq)\n",
    "    else:\n",
    "        padded_seq.append(seq)\n",
    "pprint(padded_seq)\n"
   ]
  },
  {
   "cell_type": "markdown",
   "id": "e24b71d2",
   "metadata": {},
   "source": [
    "### Dataloader\n",
    "To split the dataset into batches and add padding we will use the DataLoader class. \n",
    "```python\n",
    "DataLoader(Dataset, batch_size=N, collate_fn={custom function}, shuffle=True)\n",
    "```\n",
    "*collate_fn* is used to shape the output batch."
   ]
  },
  {
   "cell_type": "code",
   "execution_count": 55,
   "id": "e7105180",
   "metadata": {},
   "outputs": [
    {
     "name": "stdout",
     "output_type": "stream",
     "text": [
      "dict_keys(['utterance', 'slots', 'intent'])\n",
      "new_item:  {'utterance': [tensor([18., 19., 20., 21., 22.,  9., 12., 11., 23., 24., 25., 26.]), tensor([ 2.,  3.,  4.,  5.,  6.,  7.,  8.,  9., 10., 11., 12.]), tensor([ 8.,  9., 13., 14., 11., 15., 16., 17.])], 'slots': [tensor([ 79.,  79.,  79.,  79.,  79.,  79.,  41.,  79.,  76.,  79.,   9., 105.]), tensor([79., 79., 79., 79., 79., 79., 79., 79., 41., 79., 76.]), tensor([ 79.,  79.,  41., 107.,  79.,  76.,  68.,  69.])], 'intent': [5, 12, 5]}\n"
     ]
    }
   ],
   "source": [
    "from torch.utils.data import DataLoader\n",
    "\n",
    "def collate_fn(data):\n",
    "    def merge(sequences):                       # We define a function that will pad sequences based on max_len\n",
    "        '''\n",
    "        merge from batch * sent_len to batch * max_len \n",
    "        '''\n",
    "        lengths = [len(seq) for seq in sequences]\n",
    "        max_len = 1 if max(lengths)==0 else max(lengths)\n",
    "        # Pad token is zero in our case\n",
    "        # So we create a matrix full of PAD_TOKEN (i.e. 0) with the shape \n",
    "        # batch_size X maximum length of a sequence\n",
    "        padded_seqs = torch.LongTensor(len(sequences),max_len).fill_(PAD_TOKEN)\n",
    "        for i, seq in enumerate(sequences):\n",
    "            end = lengths[i]\n",
    "            padded_seqs[i, :end] = seq # We copy each sequence into the matrix\n",
    "        # print(padded_seqs)\n",
    "        padded_seqs = padded_seqs.detach()  # We remove these tensors from the computational graph\n",
    "        return padded_seqs, lengths\n",
    "    \n",
    "    # Sort data by seq lengths\n",
    "    data.sort(key=lambda x: len(x['utterance']), reverse=True) \n",
    "    \n",
    "    new_item = {}\n",
    "    for key in data[0].keys():                          # for k in ['utterance', 'slots', 'intent']\n",
    "        new_item[key] = [d[key] for d in data]\n",
    "\n",
    "\n",
    "\n",
    "    print(\"new_item: \", new_item)\n",
    "        \n",
    "    # We just need one length for packed pad seq, since len(utt) == len(slots)\n",
    "    src_utt, _ = merge(new_item['utterance'])\n",
    "    y_slots, y_lengths = merge(new_item[\"slots\"])\n",
    "    intent = torch.LongTensor(new_item[\"intent\"])\n",
    "    \n",
    "    src_utt = src_utt.to(device) # We load the Tensor on our selected device\n",
    "    y_slots = y_slots.to(device)\n",
    "    intent = intent.to(device)\n",
    "    y_lengths = torch.LongTensor(y_lengths).to(device)\n",
    "    \n",
    "    new_item[\"utterances\"] = src_utt\n",
    "    new_item[\"intents\"] = intent\n",
    "    new_item[\"y_slots\"] = y_slots\n",
    "    new_item[\"slots_len\"] = y_lengths\n",
    "    return new_item\n",
    "\n",
    "# Dataloader instantiations\n",
    "train_loader = DataLoader(train_dataset, batch_size=128, collate_fn=collate_fn,  shuffle=True)\n",
    "dev_loader = DataLoader(dev_dataset, batch_size=64, collate_fn=collate_fn)\n",
    "test_loader = DataLoader(test_dataset, batch_size=64, collate_fn=collate_fn)"
   ]
  },
  {
   "cell_type": "markdown",
   "id": "4019e479",
   "metadata": {},
   "source": [
    "# 4 Define a neural network in Pytorch\n",
    "In PyTorch the definition of a neural network is quite flexible. In ```__init__``` the layer that is going to be used are instantiated. In ```forward```, the architecture of the neural network is defined. Here you can find all the layers provided by Pytorch https://pytorch.org/docs/stable/nn.html while here you can find the recurrent layers https://pytorch.org/docs/stable/nn.html#recurrent-layers. \n",
    "\n",
    "<br><br>\n",
    "**pack_padded_sequence** and **pad_packed_sequences** respectively compress and uncompress sequences to remove the padding embeddings from the computation, reducing the computational cost and, therefore, the CO2 emissions.\n",
    " ![](https://i.stack.imgur.com/LPHAs.jpg)\n",
    "\n",
    "\n",
    "\n"
   ]
  },
  {
   "cell_type": "code",
   "execution_count": 12,
   "id": "93adc878",
   "metadata": {},
   "outputs": [],
   "source": [
    "import torch.nn as nn\n",
    "from torch.nn.utils.rnn import pack_padded_sequence, pad_packed_sequence\n",
    "\n",
    "class ModelIAS(nn.Module):\n",
    "\n",
    "    def __init__(self, hid_size, out_slot, out_int, emb_size, vocab_len, n_layer=1, pad_index=0):\n",
    "        super(ModelIAS, self).__init__()\n",
    "       \n",
    "        # hid_size = Hidden size\n",
    "        # out_slot = number of slots (output size for slot filling)\n",
    "        # out_int = number of intents (output size for intent class)\n",
    "        # emb_size = word embedding size\n",
    "        \n",
    "        self.embedding = nn.Embedding(vocab_len, emb_size, padding_idx=pad_index)\n",
    "        \n",
    "        self.utt_encoder = nn.LSTM(emb_size, hid_size, n_layer, bidirectional=False, batch_first=True)    \n",
    "        self.slot_out = nn.Linear(hid_size, out_slot)\n",
    "        self.intent_out = nn.Linear(hid_size, out_int)\n",
    "        # Dropout layer How/Where do we apply it?\n",
    "        self.dropout = nn.Dropout(0.1)\n",
    "        \n",
    "    def forward(self, utterance, seq_lengths):\n",
    "        # utterance.size() = batch_size X seq_len\n",
    "        # utt_emb = self.embedding(utterance) # utt_emb.size() = batch_size X seq_len X emb_size\n",
    "        \n",
    "        # # pack_padded_sequence avoid computation over pad tokens reducing the computational cost\n",
    "        \n",
    "        # packed_input = pack_padded_sequence(utt_emb, seq_lengths.cpu().numpy(), batch_first=True)\n",
    "        # # Process the batch\n",
    "        # packed_output, (last_hidden, cell) = self.utt_encoder(packed_input) \n",
    "       \n",
    "        # # Unpack the sequence\n",
    "        # utt_encoded, input_sizes = pad_packed_sequence(packed_output, batch_first=True)\n",
    "        # # Get the last hidden state\n",
    "        # last_hidden = last_hidden[-1,:,:]\n",
    "        \n",
    "        utt_encoded = self.bertk(input)\n",
    "\n",
    "        # Is this another possible way to get the last hiddent state? (Why?)\n",
    "        # utt_encoded.permute(1,0,2)[-1]\n",
    "        \n",
    "        # Compute slot logits\n",
    "        slots = self.slot_out(utt_encoded)\n",
    "        # Compute intent logits\n",
    "        intent = self.intent_out(last_hidden)\n",
    "        \n",
    "        # Slot size: batch_size, seq_len, classes \n",
    "        slots = slots.permute(0,2,1) # We need this for computing the loss\n",
    "        # Slot size: batch_size, classes, seq_len\n",
    "        return slots, intent"
   ]
  },
  {
   "cell_type": "markdown",
   "id": "c992a22c",
   "metadata": {},
   "source": [
    "## 3.1 Function to randomly initialize the weights\n",
    "This is a generic function that randomly initialize the parameters of RNN networks and linear layers. To dig deep in to this I would suggest you to look at here: https://pytorch.org/docs/master/nn.init.html \\\n",
    "\\\n",
    "*Note: In Pytorch every parameter of the network has a proper name like weight_ih, weight_hh etc.*"
   ]
  },
  {
   "cell_type": "code",
   "execution_count": 13,
   "id": "f47fe3fe",
   "metadata": {},
   "outputs": [],
   "source": [
    "def init_weights(mat):\n",
    "    for m in mat.modules():\n",
    "        if type(m) in [nn.GRU, nn.LSTM, nn.RNN]:\n",
    "            for name, param in m.named_parameters():\n",
    "                if 'weight_ih' in name:\n",
    "                    for idx in range(4):\n",
    "                        mul = param.shape[0]//4\n",
    "                        torch.nn.init.xavier_uniform_(param[idx*mul:(idx+1)*mul])\n",
    "                elif 'weight_hh' in name:\n",
    "                    for idx in range(4):\n",
    "                        mul = param.shape[0]//4\n",
    "                        torch.nn.init.orthogonal_(param[idx*mul:(idx+1)*mul])\n",
    "                elif 'bias' in name:\n",
    "                    param.data.fill_(0)\n",
    "        else:\n",
    "            if type(m) in [nn.Linear]:\n",
    "                torch.nn.init.uniform_(m.weight, -0.01, 0.01)\n",
    "                if m.bias != None:\n",
    "                    m.bias.data.fill_(0.01)"
   ]
  },
  {
   "cell_type": "markdown",
   "id": "04a362fc",
   "metadata": {},
   "source": [
    "## 3.2 Training set up\n",
    "We initialize the model and we select the hyperparameters of the neural network. Futhermore, we initialize the optimizer and we select the loss function.\n",
    "- You can find further optimization algorithms here: https://pytorch.org/docs/stable/optim.html\n",
    "- and further loss functions here: https://pytorch.org/docs/stable/nn.html#loss-functions"
   ]
  },
  {
   "cell_type": "code",
   "execution_count": 14,
   "id": "7e5edf6c",
   "metadata": {},
   "outputs": [],
   "source": [
    "import torch.optim as optim\n",
    "\n",
    "hid_size = 200\n",
    "emb_size = 300\n",
    "\n",
    "lr = 0.0001 # learning rate\n",
    "clip = 5 # Clip the gradient\n",
    "\n",
    "out_slot = len(lang.slot2id)\n",
    "out_int = len(lang.intent2id)\n",
    "vocab_len = len(lang.word2id)\n",
    "\n",
    "model = ModelIAS(hid_size, out_slot, out_int, emb_size, vocab_len, pad_index=PAD_TOKEN).to(device)\n",
    "model.apply(init_weights)\n",
    "\n",
    "optimizer = optim.Adam(model.parameters(), lr=lr)\n",
    "criterion_slots = nn.CrossEntropyLoss(ignore_index=PAD_TOKEN)\n",
    "criterion_intents = nn.CrossEntropyLoss() # Because we do not have the pad token"
   ]
  },
  {
   "cell_type": "markdown",
   "id": "fe9a18f4",
   "metadata": {},
   "source": [
    "### Train Loop and Evaluation Loop\n",
    "We define two functions one for training our model and the other for evaluating it. To compute the performances on the slot filling task we will use the **conll script**, while for the intent classification task we are going to use the **classification_report**.\n",
    "\n",
    "<br>\n",
    "\n",
    "In the literature, the Intent Classification task is evaluated using accuracy as a metric. The Slot filling task is evaluated using the *conll script* which computes the performance at the chunk level and the F1 score is usually reported. "
   ]
  },
  {
   "cell_type": "code",
   "execution_count": 15,
   "id": "6bf6dfca",
   "metadata": {},
   "outputs": [],
   "source": [
    "from conll import evaluate\n",
    "from sklearn.metrics import classification_report\n",
    "\n",
    "def train_loop(data, optimizer, criterion_slots, criterion_intents, model, clip=5):\n",
    "    model.train()\n",
    "    loss_array = []\n",
    "    for sample in data:\n",
    "        optimizer.zero_grad() # Zeroing the gradient\n",
    "        slots, intent = model(sample['utterances'], sample['slots_len'])\n",
    "        loss_intent = criterion_intents(intent, sample['intents'])\n",
    "        loss_slot = criterion_slots(slots, sample['y_slots'])\n",
    "        loss = loss_intent + loss_slot # In joint training we sum the losses. \n",
    "                                       # Is there another way to do that?\n",
    "        loss_array.append(loss.item())\n",
    "        loss.backward() # Compute the gradient, deleting the computational graph\n",
    "        # clip the gradient to avoid exploding gradients\n",
    "        torch.nn.utils.clip_grad_norm_(model.parameters(), clip)  \n",
    "        optimizer.step() # Update the weights\n",
    "    return loss_array\n",
    "\n",
    "def eval_loop(data, criterion_slots, criterion_intents, model, lang):\n",
    "    model.eval()\n",
    "    loss_array = []\n",
    "    \n",
    "    ref_intents = []\n",
    "    hyp_intents = []\n",
    "    \n",
    "    ref_slots = []\n",
    "    hyp_slots = []\n",
    "    #softmax = nn.Softmax(dim=1) # Use Softmax if you need the actual probability\n",
    "    with torch.no_grad(): # It used to avoid the creation of computational graph\n",
    "        for sample in data:\n",
    "            slots, intents = model(sample['utterances'], sample['slots_len'])\n",
    "            loss_intent = criterion_intents(intents, sample['intents'])\n",
    "            loss_slot = criterion_slots(slots, sample['y_slots'])\n",
    "            loss = loss_intent + loss_slot \n",
    "            loss_array.append(loss.item())\n",
    "            # Intent inference\n",
    "            # Get the highest probable class\n",
    "            out_intents = [lang.id2intent[x] \n",
    "                           for x in torch.argmax(intents, dim=1).tolist()] \n",
    "            gt_intents = [lang.id2intent[x] for x in sample['intents'].tolist()]\n",
    "            ref_intents.extend(gt_intents)\n",
    "            hyp_intents.extend(out_intents)\n",
    "            \n",
    "            # Slot inference \n",
    "            output_slots = torch.argmax(slots, dim=1)\n",
    "            for id_seq, seq in enumerate(output_slots):\n",
    "                length = sample['slots_len'].tolist()[id_seq]\n",
    "                utt_ids = sample['utterance'][id_seq][:length].tolist()\n",
    "                gt_ids = sample['y_slots'][id_seq].tolist()\n",
    "                gt_slots = [lang.id2slot[elem] for elem in gt_ids[:length]]\n",
    "                utterance = [lang.id2word[elem] for elem in utt_ids]\n",
    "                to_decode = seq[:length].tolist()\n",
    "                ref_slots.append([(utterance[id_el], elem) for id_el, elem in enumerate(gt_slots)])\n",
    "                tmp_seq = []\n",
    "                for id_el, elem in enumerate(to_decode):\n",
    "                    tmp_seq.append((utterance[id_el], lang.id2slot[elem]))\n",
    "                hyp_slots.append(tmp_seq)\n",
    "    try:            \n",
    "        results = evaluate(ref_slots, hyp_slots)\n",
    "    except Exception as ex:\n",
    "        # Sometimes the model predicts a class that is not in REF\n",
    "        print(\"Warning:\", ex)\n",
    "        ref_s = set([x[1] for x in ref_slots])\n",
    "        hyp_s = set([x[1] for x in hyp_slots])\n",
    "        print(hyp_s.difference(ref_s))\n",
    "        results = {\"total\":{\"f\":0}}\n",
    "        \n",
    "    report_intent = classification_report(ref_intents, hyp_intents, \n",
    "                                          zero_division=False, output_dict=True)\n",
    "    return results, report_intent, loss_array\n"
   ]
  },
  {
   "cell_type": "markdown",
   "id": "ecc2eaee",
   "metadata": {},
   "source": [
    "## 3.3 Train a neural network\n",
    "We train a neural network iterating several times over the training set. \n",
    "* **epochs**: number of times in which the whole training set is seen by the network\n",
    "* **early stopping**: keeps controlled the performance of the model on the dev set and interrupts the training when the performance is getting worse\n",
    "    * **patience**: wait for a number of step before interrupting the training, even though the performance is getting worse. "
   ]
  },
  {
   "cell_type": "code",
   "execution_count": 16,
   "id": "2d07777d",
   "metadata": {},
   "outputs": [
    {
     "name": "stderr",
     "output_type": "stream",
     "text": [
      "/home/bonnie/.local/lib/python3.10/site-packages/matplotlib/projections/__init__.py:63: UserWarning: Unable to import Axes3D. This may be due to multiple versions of Matplotlib being installed (e.g. as a system package and as a pip package). As a result, the 3D projection is not available.\n",
      "  warnings.warn(\"Unable to import Axes3D. This may be due to multiple versions of \"\n",
      " 39%|███▉      | 78/199 [01:46<02:45,  1.37s/it]\n"
     ]
    },
    {
     "ename": "KeyboardInterrupt",
     "evalue": "",
     "output_type": "error",
     "traceback": [
      "\u001b[0;31m---------------------------------------------------------------------------\u001b[0m",
      "\u001b[0;31mKeyboardInterrupt\u001b[0m                         Traceback (most recent call last)",
      "Cell \u001b[0;32mIn[16], line 10\u001b[0m\n\u001b[1;32m      8\u001b[0m best_f1 \u001b[38;5;241m=\u001b[39m \u001b[38;5;241m0\u001b[39m\n\u001b[1;32m      9\u001b[0m \u001b[38;5;28;01mfor\u001b[39;00m x \u001b[38;5;129;01min\u001b[39;00m tqdm(\u001b[38;5;28mrange\u001b[39m(\u001b[38;5;241m1\u001b[39m,n_epochs)):\n\u001b[0;32m---> 10\u001b[0m     loss \u001b[38;5;241m=\u001b[39m \u001b[43mtrain_loop\u001b[49m\u001b[43m(\u001b[49m\u001b[43mtrain_loader\u001b[49m\u001b[43m,\u001b[49m\u001b[43m \u001b[49m\u001b[43moptimizer\u001b[49m\u001b[43m,\u001b[49m\u001b[43m \u001b[49m\u001b[43mcriterion_slots\u001b[49m\u001b[43m,\u001b[49m\u001b[43m \u001b[49m\n\u001b[1;32m     11\u001b[0m \u001b[43m                      \u001b[49m\u001b[43mcriterion_intents\u001b[49m\u001b[43m,\u001b[49m\u001b[43m \u001b[49m\u001b[43mmodel\u001b[49m\u001b[43m,\u001b[49m\u001b[43m \u001b[49m\u001b[43mclip\u001b[49m\u001b[38;5;241;43m=\u001b[39;49m\u001b[43mclip\u001b[49m\u001b[43m)\u001b[49m\n\u001b[1;32m     12\u001b[0m     \u001b[38;5;28;01mif\u001b[39;00m x \u001b[38;5;241m%\u001b[39m \u001b[38;5;241m5\u001b[39m \u001b[38;5;241m==\u001b[39m \u001b[38;5;241m0\u001b[39m: \u001b[38;5;66;03m# We check the performance every 5 epochs\u001b[39;00m\n\u001b[1;32m     13\u001b[0m         sampled_epochs\u001b[38;5;241m.\u001b[39mappend(x)\n",
      "Cell \u001b[0;32mIn[15], line 15\u001b[0m, in \u001b[0;36mtrain_loop\u001b[0;34m(data, optimizer, criterion_slots, criterion_intents, model, clip)\u001b[0m\n\u001b[1;32m     13\u001b[0m                                \u001b[38;5;66;03m# Is there another way to do that?\u001b[39;00m\n\u001b[1;32m     14\u001b[0m loss_array\u001b[38;5;241m.\u001b[39mappend(loss\u001b[38;5;241m.\u001b[39mitem())\n\u001b[0;32m---> 15\u001b[0m \u001b[43mloss\u001b[49m\u001b[38;5;241;43m.\u001b[39;49m\u001b[43mbackward\u001b[49m\u001b[43m(\u001b[49m\u001b[43m)\u001b[49m \u001b[38;5;66;03m# Compute the gradient, deleting the computational graph\u001b[39;00m\n\u001b[1;32m     16\u001b[0m \u001b[38;5;66;03m# clip the gradient to avoid exploding gradients\u001b[39;00m\n\u001b[1;32m     17\u001b[0m torch\u001b[38;5;241m.\u001b[39mnn\u001b[38;5;241m.\u001b[39mutils\u001b[38;5;241m.\u001b[39mclip_grad_norm_(model\u001b[38;5;241m.\u001b[39mparameters(), clip)  \n",
      "File \u001b[0;32m~/.local/lib/python3.10/site-packages/torch/_tensor.py:522\u001b[0m, in \u001b[0;36mTensor.backward\u001b[0;34m(self, gradient, retain_graph, create_graph, inputs)\u001b[0m\n\u001b[1;32m    512\u001b[0m \u001b[38;5;28;01mif\u001b[39;00m has_torch_function_unary(\u001b[38;5;28mself\u001b[39m):\n\u001b[1;32m    513\u001b[0m     \u001b[38;5;28;01mreturn\u001b[39;00m handle_torch_function(\n\u001b[1;32m    514\u001b[0m         Tensor\u001b[38;5;241m.\u001b[39mbackward,\n\u001b[1;32m    515\u001b[0m         (\u001b[38;5;28mself\u001b[39m,),\n\u001b[0;32m   (...)\u001b[0m\n\u001b[1;32m    520\u001b[0m         inputs\u001b[38;5;241m=\u001b[39minputs,\n\u001b[1;32m    521\u001b[0m     )\n\u001b[0;32m--> 522\u001b[0m \u001b[43mtorch\u001b[49m\u001b[38;5;241;43m.\u001b[39;49m\u001b[43mautograd\u001b[49m\u001b[38;5;241;43m.\u001b[39;49m\u001b[43mbackward\u001b[49m\u001b[43m(\u001b[49m\n\u001b[1;32m    523\u001b[0m \u001b[43m    \u001b[49m\u001b[38;5;28;43mself\u001b[39;49m\u001b[43m,\u001b[49m\u001b[43m \u001b[49m\u001b[43mgradient\u001b[49m\u001b[43m,\u001b[49m\u001b[43m \u001b[49m\u001b[43mretain_graph\u001b[49m\u001b[43m,\u001b[49m\u001b[43m \u001b[49m\u001b[43mcreate_graph\u001b[49m\u001b[43m,\u001b[49m\u001b[43m \u001b[49m\u001b[43minputs\u001b[49m\u001b[38;5;241;43m=\u001b[39;49m\u001b[43minputs\u001b[49m\n\u001b[1;32m    524\u001b[0m \u001b[43m\u001b[49m\u001b[43m)\u001b[49m\n",
      "File \u001b[0;32m~/.local/lib/python3.10/site-packages/torch/autograd/__init__.py:266\u001b[0m, in \u001b[0;36mbackward\u001b[0;34m(tensors, grad_tensors, retain_graph, create_graph, grad_variables, inputs)\u001b[0m\n\u001b[1;32m    261\u001b[0m     retain_graph \u001b[38;5;241m=\u001b[39m create_graph\n\u001b[1;32m    263\u001b[0m \u001b[38;5;66;03m# The reason we repeat the same comment below is that\u001b[39;00m\n\u001b[1;32m    264\u001b[0m \u001b[38;5;66;03m# some Python versions print out the first line of a multi-line function\u001b[39;00m\n\u001b[1;32m    265\u001b[0m \u001b[38;5;66;03m# calls in the traceback and some print out the last line\u001b[39;00m\n\u001b[0;32m--> 266\u001b[0m \u001b[43mVariable\u001b[49m\u001b[38;5;241;43m.\u001b[39;49m\u001b[43m_execution_engine\u001b[49m\u001b[38;5;241;43m.\u001b[39;49m\u001b[43mrun_backward\u001b[49m\u001b[43m(\u001b[49m\u001b[43m  \u001b[49m\u001b[38;5;66;43;03m# Calls into the C++ engine to run the backward pass\u001b[39;49;00m\n\u001b[1;32m    267\u001b[0m \u001b[43m    \u001b[49m\u001b[43mtensors\u001b[49m\u001b[43m,\u001b[49m\n\u001b[1;32m    268\u001b[0m \u001b[43m    \u001b[49m\u001b[43mgrad_tensors_\u001b[49m\u001b[43m,\u001b[49m\n\u001b[1;32m    269\u001b[0m \u001b[43m    \u001b[49m\u001b[43mretain_graph\u001b[49m\u001b[43m,\u001b[49m\n\u001b[1;32m    270\u001b[0m \u001b[43m    \u001b[49m\u001b[43mcreate_graph\u001b[49m\u001b[43m,\u001b[49m\n\u001b[1;32m    271\u001b[0m \u001b[43m    \u001b[49m\u001b[43minputs\u001b[49m\u001b[43m,\u001b[49m\n\u001b[1;32m    272\u001b[0m \u001b[43m    \u001b[49m\u001b[43mallow_unreachable\u001b[49m\u001b[38;5;241;43m=\u001b[39;49m\u001b[38;5;28;43;01mTrue\u001b[39;49;00m\u001b[43m,\u001b[49m\n\u001b[1;32m    273\u001b[0m \u001b[43m    \u001b[49m\u001b[43maccumulate_grad\u001b[49m\u001b[38;5;241;43m=\u001b[39;49m\u001b[38;5;28;43;01mTrue\u001b[39;49;00m\u001b[43m,\u001b[49m\n\u001b[1;32m    274\u001b[0m \u001b[43m\u001b[49m\u001b[43m)\u001b[49m\n",
      "\u001b[0;31mKeyboardInterrupt\u001b[0m: "
     ]
    }
   ],
   "source": [
    "import matplotlib.pyplot as plt\n",
    "from tqdm import tqdm\n",
    "n_epochs = 200\n",
    "patience = 3\n",
    "losses_train = []\n",
    "losses_dev = []\n",
    "sampled_epochs = []\n",
    "best_f1 = 0\n",
    "for x in tqdm(range(1,n_epochs)):\n",
    "    loss = train_loop(train_loader, optimizer, criterion_slots, \n",
    "                      criterion_intents, model, clip=clip)\n",
    "    if x % 5 == 0: # We check the performance every 5 epochs\n",
    "        sampled_epochs.append(x)\n",
    "        losses_train.append(np.asarray(loss).mean())\n",
    "        results_dev, intent_res, loss_dev = eval_loop(dev_loader, criterion_slots, \n",
    "                                                      criterion_intents, model, lang)\n",
    "        losses_dev.append(np.asarray(loss_dev).mean())\n",
    "        \n",
    "        f1 = results_dev['total']['f']\n",
    "        # For decreasing the patience you can also use the average between slot f1 and intent accuracy\n",
    "        if f1 > best_f1:\n",
    "            best_f1 = f1\n",
    "            # Here you should save the model\n",
    "            patience = 3\n",
    "        else:\n",
    "            patience -= 1\n",
    "        if patience <= 0: # Early stopping with patience\n",
    "            break # Not nice but it keeps the code clean\n",
    "\n",
    "results_test, intent_test, _ = eval_loop(test_loader, criterion_slots, \n",
    "                                         criterion_intents, model, lang)    \n",
    "print('Slot F1: ', results_test['total']['f'])\n",
    "print('Intent Accuracy:', intent_test['accuracy'])\n"
   ]
  },
  {
   "cell_type": "markdown",
   "id": "1bc39e9c",
   "metadata": {},
   "source": [
    "### Saving the model\n",
    "To save the model you have to save:\n",
    "- The weights of the model\n",
    "- The computed vocabularies (w2id, slot2id, intent2id)\n",
    "- The optimizer (optionally, only if you want to continue with the training)"
   ]
  },
  {
   "cell_type": "code",
   "execution_count": null,
   "id": "a02b4c83",
   "metadata": {},
   "outputs": [],
   "source": [
    "# PATH = os.path.join(\"bin\", model_name)\n",
    "# saving_object = {\"epoch\": x, \n",
    "#                  \"model\": model.state_dict(), \n",
    "#                  \"optimizer\": optimizer.state_dict(), \n",
    "#                  \"w2id\": w2id, \n",
    "#                  \"slot2id\": slot2id, \n",
    "#                  \"intent2id\": intent2id}\n",
    "# torch.save(saving_object, PATH)"
   ]
  },
  {
   "cell_type": "markdown",
   "id": "42b1466a",
   "metadata": {},
   "source": [
    "### Plot of the train and valid losses\n",
    "One of the techniques for debugging a neural network is to check the plot of the loss. If the loss goes smoothly down then the network works correctly, otherwise a deeper analysis is needed. Furthermore, this plot can be useful for deciding the learning rate and the optimizer algorithm."
   ]
  },
  {
   "cell_type": "code",
   "execution_count": null,
   "id": "1211aab4",
   "metadata": {},
   "outputs": [],
   "source": [
    "plt.figure(num = 3, figsize=(8, 5)).patch.set_facecolor('white')\n",
    "plt.title('Train and Dev Losses')\n",
    "plt.ylabel('Loss')\n",
    "plt.xlabel('Epochs')\n",
    "plt.plot(sampled_epochs, losses_train, label='Train loss')\n",
    "plt.plot(sampled_epochs, losses_dev, label='Dev loss')\n",
    "plt.legend()\n",
    "plt.show()"
   ]
  },
  {
   "cell_type": "markdown",
   "id": "420df73c",
   "metadata": {},
   "source": [
    "### Multiple runs\n",
    "To have reliable results on small corpora we have to train and test the model from scratch for several times. At the end, we average the results and we compute the standard deviation."
   ]
  },
  {
   "cell_type": "code",
   "execution_count": null,
   "id": "f08d0445",
   "metadata": {},
   "outputs": [],
   "source": [
    "hid_size = 200\n",
    "emb_size = 300\n",
    "\n",
    "lr = 0.0001 # learning rate\n",
    "clip = 5 # Clip the gradient\n",
    "\n",
    "\n",
    "out_slot = len(lang.slot2id)\n",
    "out_int = len(lang.intent2id)\n",
    "vocab_len = len(lang.word2id)\n",
    "\n",
    "n_epochs = 200\n",
    "runs = 5\n",
    "\n",
    "slot_f1s, intent_acc = [], []\n",
    "for x in tqdm(range(0, runs)):\n",
    "    model = ModelIAS(hid_size, out_slot, out_int, emb_size, \n",
    "                     vocab_len, pad_index=PAD_TOKEN).to(device)\n",
    "    model.apply(init_weights)\n",
    "\n",
    "    optimizer = optim.Adam(model.parameters(), lr=lr)\n",
    "    criterion_slots = nn.CrossEntropyLoss(ignore_index=PAD_TOKEN)\n",
    "    criterion_intents = nn.CrossEntropyLoss()\n",
    "    \n",
    "\n",
    "    patience = 3\n",
    "    losses_train = []\n",
    "    losses_dev = []\n",
    "    sampled_epochs = []\n",
    "    best_f1 = 0\n",
    "    for x in range(1,n_epochs):\n",
    "        loss = train_loop(train_loader, optimizer, criterion_slots, \n",
    "                          criterion_intents, model)\n",
    "        if x % 5 == 0:\n",
    "            sampled_epochs.append(x)\n",
    "            losses_train.append(np.asarray(loss).mean())\n",
    "            results_dev, intent_res, loss_dev = eval_loop(dev_loader, criterion_slots, \n",
    "                                                          criterion_intents, model, lang)\n",
    "            losses_dev.append(np.asarray(loss_dev).mean())\n",
    "            f1 = results_dev['total']['f']\n",
    "\n",
    "            if f1 > best_f1:\n",
    "                best_f1 = f1\n",
    "            else:\n",
    "                patience -= 1\n",
    "            if patience <= 0: # Early stopping with patient\n",
    "                break # Not nice but it keeps the code clean\n",
    "\n",
    "    results_test, intent_test, _ = eval_loop(test_loader, criterion_slots, \n",
    "                                             criterion_intents, model, lang)\n",
    "    intent_acc.append(intent_test['accuracy'])\n",
    "    slot_f1s.append(results_test['total']['f'])\n",
    "slot_f1s = np.asarray(slot_f1s)\n",
    "intent_acc = np.asarray(intent_acc)\n",
    "print('Slot F1', round(slot_f1s.mean(),3), '+-', round(slot_f1s.std(),3))\n",
    "print('Intent Acc', round(intent_acc.mean(), 3), '+-', round(slot_f1s.std(), 3))"
   ]
  },
  {
   "cell_type": "markdown",
   "id": "abe4565d",
   "metadata": {},
   "source": [
    " ![](https://huggingface.co/front/assets/huggingface_logo-noborder.svg)\n",
    "# Hugging Face\n",
    "Hugging Face is a library that allows you to use pretrained models in an easy way. This means that you do not need to implement an architecture and train it from scratch. Hugging Face is based on a community where people share trained models and code.\n",
    "<br/><br/>\n",
    "In Hugging Face there are many different models (https://huggingface.co/models) that you can import and each of them has its own input and output shapes. However, Transformer-based models are usually composed of two parts: \n",
    "- **Tokenizer**\n",
    "- **Architecture/Pretrained model**"
   ]
  },
  {
   "cell_type": "code",
   "execution_count": 1,
   "id": "3b01cfd9",
   "metadata": {},
   "outputs": [
    {
     "data": {
      "application/vnd.jupyter.widget-view+json": {
       "model_id": "95173a615e9346fcbe7c9d3397c233e3",
       "version_major": 2,
       "version_minor": 0
      },
      "text/plain": [
       "tokenizer_config.json:   0%|          | 0.00/48.0 [00:00<?, ?B/s]"
      ]
     },
     "metadata": {},
     "output_type": "display_data"
    },
    {
     "data": {
      "application/vnd.jupyter.widget-view+json": {
       "model_id": "a79cc3cb423c4a2f852bd8c0f4a90863",
       "version_major": 2,
       "version_minor": 0
      },
      "text/plain": [
       "vocab.txt:   0%|          | 0.00/232k [00:00<?, ?B/s]"
      ]
     },
     "metadata": {},
     "output_type": "display_data"
    },
    {
     "data": {
      "application/vnd.jupyter.widget-view+json": {
       "model_id": "3a80e146e28244b3b409aa709e52f919",
       "version_major": 2,
       "version_minor": 0
      },
      "text/plain": [
       "tokenizer.json:   0%|          | 0.00/466k [00:00<?, ?B/s]"
      ]
     },
     "metadata": {},
     "output_type": "display_data"
    },
    {
     "data": {
      "application/vnd.jupyter.widget-view+json": {
       "model_id": "7ac5d91bf2414ab586141ce37f281349",
       "version_major": 2,
       "version_minor": 0
      },
      "text/plain": [
       "config.json:   0%|          | 0.00/570 [00:00<?, ?B/s]"
      ]
     },
     "metadata": {},
     "output_type": "display_data"
    },
    {
     "data": {
      "application/vnd.jupyter.widget-view+json": {
       "model_id": "e560dbeb4c4346f9b5f2194e3283810a",
       "version_major": 2,
       "version_minor": 0
      },
      "text/plain": [
       "model.safetensors:   0%|          | 0.00/440M [00:00<?, ?B/s]"
      ]
     },
     "metadata": {},
     "output_type": "display_data"
    },
    {
     "name": "stdout",
     "output_type": "stream",
     "text": [
      "{'attention_mask': tensor([[1, 1, 1, 1, 1, 1, 1, 1, 1],\n",
      "        [1, 1, 1, 1, 1, 1, 0, 0, 0],\n",
      "        [1, 1, 1, 1, 1, 1, 0, 0, 0]]),\n",
      " 'input_ids': tensor([[  101,  1045,  2387,  1037,  2158,  2007,  1037, 12772,   102],\n",
      "        [  101,  2732, 19980,  2001,  2182,   102,     0,     0,     0],\n",
      "        [  101,  1045,  2134,  1005,  1056,   102,     0,     0,     0]]),\n",
      " 'token_type_ids': tensor([[0, 0, 0, 0, 0, 0, 0, 0, 0],\n",
      "        [0, 0, 0, 0, 0, 0, 0, 0, 0],\n",
      "        [0, 0, 0, 0, 0, 0, 0, 0, 0]])}\n"
     ]
    }
   ],
   "source": [
    "# BERT model script from: huggingface.co\n",
    "from transformers import BertTokenizer, BertModel\n",
    "from pprint import pprint\n",
    "\n",
    "tokenizer = BertTokenizer.from_pretrained(\"bert-base-uncased\") # Download the tokenizer\n",
    "model = BertModel.from_pretrained(\"bert-base-uncased\") # Download the model\n",
    "\n",
    "inputs = tokenizer([\"I saw a man with a telescope\", \"StarLord was here\",  \"I didn't\"], return_tensors=\"pt\", padding=True)\n",
    "pprint(inputs)"
   ]
  },
  {
   "cell_type": "code",
   "execution_count": 6,
   "id": "36f26671",
   "metadata": {},
   "outputs": [
    {
     "name": "stdout",
     "output_type": "stream",
     "text": [
      "torch.Size([3, 9, 768])\n"
     ]
    }
   ],
   "source": [
    "outputs = model(**inputs)\n",
    "\n",
    "last_hidden_states = outputs.last_hidden_state\n",
    "\n",
    "print(last_hidden_states.shape)"
   ]
  },
  {
   "cell_type": "markdown",
   "id": "a9139e1c",
   "metadata": {},
   "source": [
    "##  Byte pair encoding\n",
    "The tricky part of using Transformer-based model is the tokenizer which is based on byte pair encoding algorithm. Indeed, the **tokenizers** used by Transformer-based models are different from those we have seen in the lab. While for instance Spacy's tokenizer is rule-based and splits the text looking at the punctuation, the goal of Transformer tokenizers is to reduce the vocabulary length by splitting words into subwords. A thoroughly explanation of such these tokenizers can be found here: https://huggingface.co/docs/transformers/tokenizer_summary  "
   ]
  },
  {
   "cell_type": "code",
   "execution_count": 9,
   "id": "b60584d6",
   "metadata": {},
   "outputs": [
    {
     "name": "stdout",
     "output_type": "stream",
     "text": [
      "tensor([ 101, 1045, 2134, 1005, 1056,  102,    0,    0,    0])\n",
      "['[CLS]', 'i', 'didn', \"'\", 't', '[SEP]', '[PAD]', '[PAD]', '[PAD]']\n"
     ]
    }
   ],
   "source": [
    "print(inputs[\"input_ids\"][2])\n",
    "print(tokenizer.convert_ids_to_tokens(inputs[\"input_ids\"][2]))"
   ]
  },
  {
   "cell_type": "markdown",
   "id": "2b2dcc1f",
   "metadata": {},
   "source": [
    "# Mandatory Exam Exercise"
   ]
  },
  {
   "cell_type": "markdown",
   "id": "8e2fad3c",
   "metadata": {},
   "source": [
    "## Part 1 (4 points)\n",
    "As for LM project, you have to apply these two modifications incrementally. Also in this case you may have to play with the hyperparameters and optimizers to improve the performance. \n",
    "\n",
    "Modify the baseline architecture Model IAS by:\n",
    "- Adding bidirectionality\n",
    "- Adding dropout layer\n",
    "\n",
    "**Intent classification**: accuracy <br>\n",
    "**Slot filling**: F1 score with conll\n",
    "\n",
    "***Dataset to use: ATIS***"
   ]
  },
  {
   "cell_type": "markdown",
   "id": "a30eb2ce-9952-4127-b258-3d372f452c2b",
   "metadata": {},
   "source": [
    "## Part 2 (11 points)\n",
    "\n",
    "Adapt the code to fine-tune a pre-trained BERT model using a multi-task learning setting on intent classification and slot filling. \n",
    "You can refer to this paper to have a better understanding of how to implement this: https://arxiv.org/abs/1902.10909. In this, one of the challenges of this is to handle the sub-tokenization issue.\n",
    "\n",
    "*Note*: The fine-tuning process is to further train on a specific task/s a model that has been pre-trained on a different (potentially unrelated) task/s.\n",
    "\n",
    "\n",
    "The models that you can experiment with are [*BERT-base* or *BERT-large*](https://huggingface.co/google-bert/bert-base-uncased). \n",
    "\n",
    "**Intent classification**: accuracy <br>\n",
    "**Slot filling**: F1 score with conll\n",
    "\n",
    "***Dataset to use: ATIS***\n"
   ]
  },
  {
   "cell_type": "markdown",
   "id": "2b030c94",
   "metadata": {},
   "source": []
  }
 ],
 "metadata": {
  "kernelspec": {
   "display_name": "Python 3 (ipykernel)",
   "language": "python",
   "name": "python3"
  },
  "language_info": {
   "codemirror_mode": {
    "name": "ipython",
    "version": 3
   },
   "file_extension": ".py",
   "mimetype": "text/x-python",
   "name": "python",
   "nbconvert_exporter": "python",
   "pygments_lexer": "ipython3",
   "version": "3.10.12"
  }
 },
 "nbformat": 4,
 "nbformat_minor": 5
}
